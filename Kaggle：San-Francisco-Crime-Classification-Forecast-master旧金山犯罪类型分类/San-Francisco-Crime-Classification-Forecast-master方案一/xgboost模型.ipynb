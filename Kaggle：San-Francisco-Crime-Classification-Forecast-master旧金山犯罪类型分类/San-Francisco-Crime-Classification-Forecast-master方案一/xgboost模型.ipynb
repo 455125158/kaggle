{
 "cells": [
  {
   "cell_type": "code",
   "execution_count": 1,
   "metadata": {},
   "outputs": [],
   "source": [
    "import pandas as pd\n",
    "import xgboost as xgb"
   ]
  },
  {
   "cell_type": "code",
   "execution_count": 2,
   "metadata": {},
   "outputs": [],
   "source": [
    "f1 = open('处理后的数据target.csv') \n",
    "f2 = open('处理后的数据target_dict.csv') \n",
    "f3 = open('处理后的数据train.csv') \n",
    "f4 = open('处理后的数据test.csv') \n",
    "target = pd.read_csv(f1, header=None)\n",
    "target_dict = pd.read_csv(f2,header=None)\n",
    "train = pd.read_csv(f3,header=None)\n",
    "test = pd.read_csv(f4,header=None)"
   ]
  },
  {
   "cell_type": "code",
   "execution_count": 3,
   "metadata": {},
   "outputs": [],
   "source": [
    "target_dict = target_dict.values.astype('str').reshape(39,)"
   ]
  },
  {
   "cell_type": "code",
   "execution_count": 4,
   "metadata": {},
   "outputs": [],
   "source": [
    "# xgboost的数据类型\n",
    "dneedpre = xgb.DMatrix(test)\n",
    "dtrain = xgb.DMatrix(train,target)\n",
    "\n",
    "# 随意选取的参数，实在没精力CV了。。。\n",
    "xgb_params = {\n",
    "                # xgboost的\n",
    "                'objective': 'multi:softprob',\n",
    "                'eta':0.4,\n",
    "                'silent':0,\n",
    "                'nthread':4,\n",
    "                'num_class':39,\n",
    "                'eval_metric':'mlogloss',\n",
    "                # 树结构相关的\n",
    "                'max_depth': 8,\n",
    "                'min_child_weight': 1,\n",
    "                'gamma': 0,\n",
    "                'reg_alfa':0.05,\n",
    "                'subsample':0.8,\n",
    "                'colsample_bytree':1,\n",
    "                # 其他\n",
    "                'max_delta_step':1 \n",
    "                }\n",
    "\n",
    "# 训练\n",
    "gbdt = xgb.train(xgb_params, dtrain, num_boost_round=10)\n",
    "\n",
    "# 预测\n",
    "ypred = gbdt.predict(dneedpre)\n",
    "\n",
    "output = pd.DataFrame(ypred,columns=target_dict)\n",
    "output.columns.names = ['Id']\n",
    "output.index.names = ['Id']\n",
    "output.index += 1\n",
    "output.to_csv('prediction_xgboost.csv')"
   ]
  }
 ],
 "metadata": {
  "kernelspec": {
   "display_name": "Python 3",
   "language": "python",
   "name": "python3"
  },
  "language_info": {
   "codemirror_mode": {
    "name": "ipython",
    "version": 3
   },
   "file_extension": ".py",
   "mimetype": "text/x-python",
   "name": "python",
   "nbconvert_exporter": "python",
   "pygments_lexer": "ipython3",
   "version": "3.7.1"
  }
 },
 "nbformat": 4,
 "nbformat_minor": 2
}
